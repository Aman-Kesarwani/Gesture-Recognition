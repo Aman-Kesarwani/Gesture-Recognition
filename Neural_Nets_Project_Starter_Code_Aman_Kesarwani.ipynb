{
 "cells": [
  {
   "cell_type": "markdown",
   "metadata": {},
   "source": [
    "# Gesture Recognition\n",
    "In this group project, you are going to build a 3D Conv model that will be able to predict the 5 gestures correctly. Please import the following libraries to get started."
   ]
  },
  {
   "cell_type": "code",
   "execution_count": 1,
   "metadata": {},
   "outputs": [],
   "source": [
    "import numpy as np\n",
    "import os\n",
    "#import scipy.misc\n",
    "#from scipy.misc import imread, imresize\n",
    "\n",
    "from PIL import Image\n",
    "import datetime\n",
    "import os\n",
    "from skimage.transform import resize\n",
    "from imageio import imread"
   ]
  },
  {
   "cell_type": "markdown",
   "metadata": {},
   "source": [
    "We set the random seed so that the results don't vary drastically."
   ]
  },
  {
   "cell_type": "code",
   "execution_count": 2,
   "metadata": {},
   "outputs": [],
   "source": [
    "np.random.seed(30)\n",
    "import random as rn\n",
    "rn.seed(30)\n",
    "from keras import backend as K\n",
    "import tensorflow as tf\n",
    "tf.random.set_seed(30)"
   ]
  },
  {
   "cell_type": "markdown",
   "metadata": {},
   "source": [
    "In this block, you read the folder names for training and validation. You also set the `batch_size` here. Note that you set the batch size in such a way that you are able to use the GPU in full capacity. You keep increasing the batch size until the machine throws an error."
   ]
  },
  {
   "cell_type": "code",
   "execution_count": 3,
   "metadata": {},
   "outputs": [],
   "source": [
    "train_doc = np.random.permutation(open('Project_data/train.csv').readlines())\n",
    "val_doc = np.random.permutation(open('Project_data/val.csv').readlines())\n",
    "batch_size = 10"
   ]
  },
  {
   "cell_type": "markdown",
   "metadata": {},
   "source": [
    "## Generator\n",
    "This is one of the most important part of the code. The overall structure of the generator has been given. In the generator, you are going to preprocess the images as you have images of 2 different dimensions as well as create a batch of video frames. You have to experiment with `img_idx`, `y`,`z` and normalization such that you get high accuracy."
   ]
  },
  {
   "cell_type": "markdown",
   "metadata": {},
   "source": [
    "#### Lets define the number of frame, image width and image height "
   ]
  },
  {
   "cell_type": "code",
   "execution_count": 4,
   "metadata": {},
   "outputs": [],
   "source": [
    "#number of frames\n",
    "x = 30 \n",
    "\n",
    "#image width\n",
    "y = 120 \n",
    "\n",
    "#image height\n",
    "z = 120 "
   ]
  },
  {
   "cell_type": "code",
   "execution_count": 5,
   "metadata": {},
   "outputs": [],
   "source": [
    "def generator(source_path, folder_list, batch_size):\n",
    "    print( 'Source path = ', source_path, '; batch size =', batch_size)\n",
    "    \n",
    "    #create a list of image numbers you want to use for a particular video\n",
    "    img_idx =  [x for x in range(0,x)]\n",
    "    while True:\n",
    "        t = np.random.permutation(folder_list)\n",
    "        num_batches = len(folder_list)//batch_size# calculate the number of batches\n",
    "        for batch in range(num_batches): # we iterate over the number of batches\n",
    "            batch_data = np.zeros((batch_size,x,y,z,3)) # x is the number of images you use for each video, (y,z) is the final size of the input images and 3 is the number of channels RGB\n",
    "            batch_labels = np.zeros((batch_size,5)) # batch_labels is the one hot representation of the output\n",
    "            for folder in range(batch_size): # iterate over the batch_size\n",
    "                imgs = os.listdir(source_path+'/'+ t[folder + (batch*batch_size)].split(';')[0]) # read all the images in the folder\n",
    "                for idx,item in enumerate(img_idx): #  Iterate iver the frames/images of a folder to read them in\n",
    "                    image = imread(source_path+'/'+ t[folder + (batch*batch_size)].strip().split(';')[0]+'/'+imgs[item]).astype(np.float32)\n",
    "                    \n",
    "                    #crop the images and resize them. Note that the images are of 2 different shape \n",
    "                    #and the conv3D will throw error if the inputs in a batch have different shapes\n",
    "                    \n",
    "                    out_temp = resize(image,(120,120))\n",
    "                    out_temp = out_temp/127.5-1 #Normalize data\n",
    "                    \n",
    "                    #normalise and feed in the image\n",
    "                    batch_data[folder,idx,:,:,0] = (out_temp[:,:,0]) \n",
    "                    batch_data[folder,idx,:,:,1] = (out_temp[:,:,1])                    \n",
    "                    batch_data[folder,idx,:,:,2] = (out_temp[:,:,2])\n",
    "                    \n",
    "                batch_labels[folder, int(t[folder + (batch*batch_size)].strip().split(';')[2])] = 1\n",
    "            yield batch_data, batch_labels #you yield the batch_data and the batch_labels, remember what does yield do\n",
    "\n",
    "        \n",
    "        # write the code for the remaining data points which are left after full batches\n",
    "        \n",
    "        if (len(folder_list) != batch_size*num_batches):\n",
    "            print(\"Batch: \",num_batches+1,\"Index:\", batch_size)\n",
    "            batch_size = len(folder_list) - (batch_size*num_batches)\n",
    "            batch_data = np.zeros((batch_size,x,y,z,3)) # x is the number of images you use for each video, (y,z) is the final size of the input images and 3 is the number of channels RGB\n",
    "            batch_labels = np.zeros((batch_size,5)) # batch_labels is the one hot representation of the output\n",
    "            for folder in range(batch_size): # iterate over the batch_size\n",
    "                imgs = os.listdir(source_path+'/'+ t[folder + (batch*batch_size)].split(';')[0]) # read all the images in the folder\n",
    "                for idx,item in enumerate(img_idx): #  Iterate iver the frames/images of a folder to read them in\n",
    "                    image = imread(source_path+'/'+ t[folder + (batch*batch_size)].strip().split(';')[0]+'/'+imgs[item]).astype(np.float32)\n",
    "                    \n",
    "                    #crop the images and resize them. Note that the images are of 2 different shape \n",
    "                    #and the conv3D will throw error if the inputs in a batch have different shapes\n",
    "                    out_temp = resize(image,(120,120))\n",
    "                    out_temp = out_temp/127.5-1 #Normalize data\n",
    "                    \n",
    "                    batch_data[folder,idx,:,:,0] = (out_temp[:,:,0])\n",
    "                    batch_data[folder,idx,:,:,1] = (out_temp[:,:,1])\n",
    "                    batch_data[folder,idx,:,:,2] = (out_temp[:,:,2])\n",
    "                   \n",
    "                batch_labels[folder, int(t[folder + (batch*batch_size)].strip().split(';')[2])] = 1\n",
    "            yield batch_data, batch_labels"
   ]
  },
  {
   "cell_type": "markdown",
   "metadata": {},
   "source": [
    "Note here that a video is represented above in the generator as (number of images, height, width, number of channels). Take this into consideration while creating the model architecture."
   ]
  },
  {
   "cell_type": "code",
   "execution_count": 6,
   "metadata": {},
   "outputs": [
    {
     "name": "stdout",
     "output_type": "stream",
     "text": [
      "# training sequences = 663\n",
      "# validation sequences = 100\n",
      "# epochs = 10\n"
     ]
    }
   ],
   "source": [
    "curr_dt_time = datetime.datetime.now()\n",
    "train_path = '/Project_data/train'\n",
    "val_path = '/Project_data/val'\n",
    "num_train_sequences = len(train_doc)\n",
    "print('# training sequences =', num_train_sequences)\n",
    "num_val_sequences = len(val_doc)\n",
    "print('# validation sequences =', num_val_sequences)\n",
    "\n",
    "# choose the number of epochs\n",
    "num_epochs = 10\n",
    "\n",
    "print ('# epochs =', num_epochs)"
   ]
  },
  {
   "cell_type": "markdown",
   "metadata": {},
   "source": [
    "## Model\n",
    "Here you make the model using different functionalities that Keras provides. Remember to use `Conv3D` and `MaxPooling3D` and not `Conv2D` and `Maxpooling2D` for a 3D convolution model. You would want to use `TimeDistributed` while building a Conv2D + RNN model. Also remember that the last layer is the softmax. Design the network in such a way that the model is able to give good accuracy on the least number of parameters so that it can fit in the memory of the webcam."
   ]
  },
  {
   "cell_type": "code",
   "execution_count": 7,
   "metadata": {},
   "outputs": [],
   "source": [
    "from keras.models import Sequential, Model\n",
    "from keras.layers import Dense, GRU, Flatten, TimeDistributed, Flatten, BatchNormalization, Activation\n",
    "from keras.layers.convolutional import Conv3D, MaxPooling3D\n",
    "from keras.callbacks import ModelCheckpoint, ReduceLROnPlateau\n",
    "from keras import optimizers\n",
    "from keras.layers import Dropout"
   ]
  },
  {
   "cell_type": "markdown",
   "metadata": {},
   "source": [
    "### 1-> Lets use Sequential model for the linear stack of layers."
   ]
  },
  {
   "cell_type": "code",
   "execution_count": 8,
   "metadata": {},
   "outputs": [],
   "source": [
    "model_seq_1 = Sequential()"
   ]
  },
  {
   "cell_type": "markdown",
   "metadata": {},
   "source": [
    "##### Number of filters - 8"
   ]
  },
  {
   "cell_type": "code",
   "execution_count": 9,
   "metadata": {},
   "outputs": [],
   "source": [
    "model_seq_1.add(Conv3D(8,\n",
    "                 kernel_size=(3,3,3), \n",
    "                 input_shape=(30, 120, 120, 3),\n",
    "                 padding='same'))\n",
    "model_seq_1.add(BatchNormalization())\n",
    "model_seq_1.add(Activation('relu'))\n",
    "\n",
    "model_seq_1.add(MaxPooling3D(pool_size=(2,2,2)))"
   ]
  },
  {
   "cell_type": "markdown",
   "metadata": {},
   "source": [
    "##### Number of filters - 16"
   ]
  },
  {
   "cell_type": "code",
   "execution_count": 10,
   "metadata": {},
   "outputs": [],
   "source": [
    "model_seq_1.add(Conv3D(16, \n",
    "                 kernel_size=(3,3,3), \n",
    "                 padding='same'))\n",
    "model_seq_1.add(BatchNormalization())\n",
    "model_seq_1.add(Activation('relu'))\n",
    "\n",
    "model_seq_1.add(MaxPooling3D(pool_size=(2,2,2)))"
   ]
  },
  {
   "cell_type": "markdown",
   "metadata": {},
   "source": [
    "##### Number of filters - 32"
   ]
  },
  {
   "cell_type": "code",
   "execution_count": 11,
   "metadata": {},
   "outputs": [],
   "source": [
    "model_seq_1.add(Conv3D(32, \n",
    "                 kernel_size=(1,3,3), \n",
    "                 padding='same'))\n",
    "model_seq_1.add(BatchNormalization())\n",
    "model_seq_1.add(Activation('relu'))\n",
    "\n",
    "model_seq_1.add(MaxPooling3D(pool_size=(2,2,2)))\n"
   ]
  },
  {
   "cell_type": "markdown",
   "metadata": {},
   "source": [
    "##### Number of filters - 64"
   ]
  },
  {
   "cell_type": "code",
   "execution_count": 12,
   "metadata": {},
   "outputs": [],
   "source": [
    "model_seq_1.add(Conv3D(64,\n",
    "                 kernel_size=(1,3,3), \n",
    "                 padding='same'))\n",
    "model_seq_1.add(BatchNormalization())\n",
    "model_seq_1.add(Activation('relu'))\n",
    "\n",
    "model_seq_1.add(MaxPooling3D(pool_size=(2,2,2)))"
   ]
  },
  {
   "cell_type": "code",
   "execution_count": 13,
   "metadata": {},
   "outputs": [],
   "source": [
    "#Flatten Layers\n",
    "model_seq_1.add(Flatten())\n",
    "\n",
    "model_seq_1.add(Dense(1000, activation='relu'))\n",
    "model_seq_1.add(Dropout(0.5))\n",
    "\n",
    "model_seq_1.add(Dense(500, activation='relu'))\n",
    "model_seq_1.add(Dropout(0.5))"
   ]
  },
  {
   "cell_type": "markdown",
   "metadata": {},
   "source": [
    "##### Lets use activation function to normalize the output to a probability"
   ]
  },
  {
   "cell_type": "code",
   "execution_count": 14,
   "metadata": {},
   "outputs": [],
   "source": [
    "#softmax layer\n",
    "model_seq_1.add(Dense(5, activation='softmax'))"
   ]
  },
  {
   "cell_type": "markdown",
   "metadata": {},
   "source": [
    "Now that you have written the model, the next step is to `compile` the model. When you print the `summary` of the model, you'll see the total number of parameters you have to train."
   ]
  },
  {
   "cell_type": "markdown",
   "metadata": {},
   "source": [
    "##### Lets use Adam optimizer as we wants to train the neural network in less time and more efficiently "
   ]
  },
  {
   "cell_type": "code",
   "execution_count": 15,
   "metadata": {},
   "outputs": [
    {
     "name": "stdout",
     "output_type": "stream",
     "text": [
      "Model: \"sequential\"\n",
      "_________________________________________________________________\n",
      "Layer (type)                 Output Shape              Param #   \n",
      "=================================================================\n",
      "conv3d (Conv3D)              (None, 30, 120, 120, 8)   656       \n",
      "_________________________________________________________________\n",
      "batch_normalization (BatchNo (None, 30, 120, 120, 8)   32        \n",
      "_________________________________________________________________\n",
      "activation (Activation)      (None, 30, 120, 120, 8)   0         \n",
      "_________________________________________________________________\n",
      "max_pooling3d (MaxPooling3D) (None, 15, 60, 60, 8)     0         \n",
      "_________________________________________________________________\n",
      "conv3d_1 (Conv3D)            (None, 15, 60, 60, 16)    3472      \n",
      "_________________________________________________________________\n",
      "batch_normalization_1 (Batch (None, 15, 60, 60, 16)    64        \n",
      "_________________________________________________________________\n",
      "activation_1 (Activation)    (None, 15, 60, 60, 16)    0         \n",
      "_________________________________________________________________\n",
      "max_pooling3d_1 (MaxPooling3 (None, 7, 30, 30, 16)     0         \n",
      "_________________________________________________________________\n",
      "conv3d_2 (Conv3D)            (None, 7, 30, 30, 32)     4640      \n",
      "_________________________________________________________________\n",
      "batch_normalization_2 (Batch (None, 7, 30, 30, 32)     128       \n",
      "_________________________________________________________________\n",
      "activation_2 (Activation)    (None, 7, 30, 30, 32)     0         \n",
      "_________________________________________________________________\n",
      "max_pooling3d_2 (MaxPooling3 (None, 3, 15, 15, 32)     0         \n",
      "_________________________________________________________________\n",
      "conv3d_3 (Conv3D)            (None, 3, 15, 15, 64)     18496     \n",
      "_________________________________________________________________\n",
      "batch_normalization_3 (Batch (None, 3, 15, 15, 64)     256       \n",
      "_________________________________________________________________\n",
      "activation_3 (Activation)    (None, 3, 15, 15, 64)     0         \n",
      "_________________________________________________________________\n",
      "max_pooling3d_3 (MaxPooling3 (None, 1, 7, 7, 64)       0         \n",
      "_________________________________________________________________\n",
      "flatten (Flatten)            (None, 3136)              0         \n",
      "_________________________________________________________________\n",
      "dense (Dense)                (None, 1000)              3137000   \n",
      "_________________________________________________________________\n",
      "dropout (Dropout)            (None, 1000)              0         \n",
      "_________________________________________________________________\n",
      "dense_1 (Dense)              (None, 500)               500500    \n",
      "_________________________________________________________________\n",
      "dropout_1 (Dropout)          (None, 500)               0         \n",
      "_________________________________________________________________\n",
      "dense_2 (Dense)              (None, 5)                 2505      \n",
      "=================================================================\n",
      "Total params: 3,667,749\n",
      "Trainable params: 3,667,509\n",
      "Non-trainable params: 240\n",
      "_________________________________________________________________\n",
      "None\n"
     ]
    }
   ],
   "source": [
    "optimiser = optimizers.Adam(lr=0.001) #write your optimizer\n",
    "model_seq_1.compile(optimizer=optimiser, loss='categorical_crossentropy', metrics=['categorical_accuracy'])\n",
    "print (model_seq_1.summary())"
   ]
  },
  {
   "cell_type": "markdown",
   "metadata": {},
   "source": [
    "Let us create the `train_generator` and the `val_generator` which will be used in `.fit_generator`."
   ]
  },
  {
   "cell_type": "code",
   "execution_count": 16,
   "metadata": {},
   "outputs": [],
   "source": [
    "train_generator = generator(train_path, train_doc, batch_size)\n",
    "val_generator = generator(val_path, val_doc, batch_size)"
   ]
  },
  {
   "cell_type": "code",
   "execution_count": 17,
   "metadata": {},
   "outputs": [
    {
     "name": "stdout",
     "output_type": "stream",
     "text": [
      "WARNING:tensorflow:`period` argument is deprecated. Please use `save_freq` to specify the frequency in number of batches seen.\n"
     ]
    }
   ],
   "source": [
    "model_name = 'model_init' + '_' + str(curr_dt_time).replace(' ','').replace(':','_') + '/'\n",
    "    \n",
    "if not os.path.exists(model_name):\n",
    "    os.mkdir(model_name)\n",
    "        \n",
    "filepath = model_name + 'model-{epoch:05d}-{loss:.5f}-{categorical_accuracy:.5f}-{val_loss:.5f}-{val_categorical_accuracy:.5f}.h5'\n",
    "\n",
    "checkpoint = ModelCheckpoint(filepath, monitor='val_loss', verbose=1, save_best_only=False, save_weights_only=False, mode='auto', period=1)\n",
    "\n",
    "LR = ReduceLROnPlateau(monitor='val_loss', factor=0.5, patience=2, cooldown=1, verbose=1)# write the REducelronplateau code here\n",
    "callbacks_list = [checkpoint, LR]"
   ]
  },
  {
   "cell_type": "markdown",
   "metadata": {},
   "source": [
    "The `steps_per_epoch` and `validation_steps` are used by `fit_generator` to decide the number of next() calls it need to make."
   ]
  },
  {
   "cell_type": "code",
   "execution_count": 18,
   "metadata": {},
   "outputs": [],
   "source": [
    "if (num_train_sequences%batch_size) == 0:\n",
    "    steps_per_epoch = int(num_train_sequences/batch_size)\n",
    "else:\n",
    "    steps_per_epoch = (num_train_sequences//batch_size) + 1\n",
    "\n",
    "if (num_val_sequences%batch_size) == 0:\n",
    "    validation_steps = int(num_val_sequences/batch_size)\n",
    "else:\n",
    "    validation_steps = (num_val_sequences//batch_size) + 1"
   ]
  },
  {
   "cell_type": "markdown",
   "metadata": {},
   "source": [
    "Let us now fit the model. This will start training the model and with the help of the checkpoints, you'll be able to save the model at the end of each epoch."
   ]
  },
  {
   "cell_type": "code",
   "execution_count": 19,
   "metadata": {},
   "outputs": [
    {
     "name": "stdout",
     "output_type": "stream",
     "text": [
      "Source path =  /Project_data/train ; batch size = 10\n"
     ]
    },
    {
     "name": "stderr",
     "output_type": "stream",
     "text": [
      "C:\\Users\\acer\\anaconda3\\lib\\site-packages\\tensorflow\\python\\keras\\engine\\training.py:1844: UserWarning: `Model.fit_generator` is deprecated and will be removed in a future version. Please use `Model.fit`, which supports generators.\n",
      "  warnings.warn('`Model.fit_generator` is deprecated and '\n"
     ]
    },
    {
     "name": "stdout",
     "output_type": "stream",
     "text": [
      "Epoch 1/10\n",
      "65/67 [============================>.] - ETA: 23s - loss: 6.8019 - categorical_accuracy: 0.2029Batch:  67 Index: 10\n",
      "67/67 [==============================] - ETA: 0s - loss: 6.7531 - categorical_accuracy: 0.2039 Source path =  /Project_data/val ; batch size = 10\n",
      "67/67 [==============================] - 822s 12s/step - loss: 6.7297 - categorical_accuracy: 0.2044 - val_loss: 1.4087 - val_categorical_accuracy: 0.3600\n",
      "\n",
      "Epoch 00001: saving model to model_init_2021-04-0500_27_47.853265\\model-00001-5.15875-0.23680-1.40866-0.36000.h5\n",
      "Epoch 2/10\n",
      "67/67 [==============================] - 233s 3s/step - loss: 1.9216 - categorical_accuracy: 0.3585 - val_loss: 1.7125 - val_categorical_accuracy: 0.2900\n",
      "\n",
      "Epoch 00002: saving model to model_init_2021-04-0500_27_47.853265\\model-00002-2.41348-0.32338-1.71245-0.29000.h5\n",
      "Epoch 3/10\n",
      "67/67 [==============================] - 231s 3s/step - loss: 2.1091 - categorical_accuracy: 0.3167 - val_loss: 1.3871 - val_categorical_accuracy: 0.4300\n",
      "\n",
      "Epoch 00003: saving model to model_init_2021-04-0500_27_47.853265\\model-00003-2.07445-0.24378-1.38708-0.43000.h5\n",
      "Epoch 4/10\n",
      "67/67 [==============================] - 253s 4s/step - loss: 1.6167 - categorical_accuracy: 0.2953 - val_loss: 1.4746 - val_categorical_accuracy: 0.3200\n",
      "\n",
      "Epoch 00004: saving model to model_init_2021-04-0500_27_47.853265\\model-00004-1.59555-0.30348-1.47461-0.32000.h5\n",
      "Epoch 5/10\n",
      "67/67 [==============================] - 240s 4s/step - loss: 1.6936 - categorical_accuracy: 0.3227 - val_loss: 1.2734 - val_categorical_accuracy: 0.5200\n",
      "\n",
      "Epoch 00005: saving model to model_init_2021-04-0500_27_47.853265\\model-00005-1.62054-0.31841-1.27336-0.52000.h5\n",
      "Epoch 6/10\n",
      "67/67 [==============================] - 247s 4s/step - loss: 1.5447 - categorical_accuracy: 0.3267 - val_loss: 1.4047 - val_categorical_accuracy: 0.4600\n",
      "\n",
      "Epoch 00006: saving model to model_init_2021-04-0500_27_47.853265\\model-00006-1.48334-0.36816-1.40472-0.46000.h5\n",
      "Epoch 7/10\n",
      "67/67 [==============================] - 242s 4s/step - loss: 1.5165 - categorical_accuracy: 0.3318 - val_loss: 1.2279 - val_categorical_accuracy: 0.4200\n",
      "\n",
      "Epoch 00007: saving model to model_init_2021-04-0500_27_47.853265\\model-00007-1.43178-0.36816-1.22788-0.42000.h5\n",
      "Epoch 8/10\n",
      "67/67 [==============================] - 248s 4s/step - loss: 1.4401 - categorical_accuracy: 0.4227 - val_loss: 1.1546 - val_categorical_accuracy: 0.4300\n",
      "\n",
      "Epoch 00008: saving model to model_init_2021-04-0500_27_47.853265\\model-00008-1.42604-0.46269-1.15460-0.43000.h5\n",
      "Epoch 9/10\n",
      "67/67 [==============================] - 237s 4s/step - loss: 1.3724 - categorical_accuracy: 0.4337 - val_loss: 1.2086 - val_categorical_accuracy: 0.4800\n",
      "\n",
      "Epoch 00009: saving model to model_init_2021-04-0500_27_47.853265\\model-00009-1.32352-0.43284-1.20861-0.48000.h5\n",
      "Epoch 10/10\n",
      "67/67 [==============================] - 247s 4s/step - loss: 1.1629 - categorical_accuracy: 0.4896 - val_loss: 1.0825 - val_categorical_accuracy: 0.5900\n",
      "\n",
      "Epoch 00010: saving model to model_init_2021-04-0500_27_47.853265\\model-00010-1.18238-0.48756-1.08249-0.59000.h5\n"
     ]
    },
    {
     "data": {
      "text/plain": [
       "<tensorflow.python.keras.callbacks.History at 0x26196380280>"
      ]
     },
     "execution_count": 19,
     "metadata": {},
     "output_type": "execute_result"
    }
   ],
   "source": [
    "model_seq_1.fit_generator(train_generator, steps_per_epoch=steps_per_epoch, epochs=num_epochs, verbose=1, \n",
    "                    callbacks=callbacks_list, validation_data=val_generator, \n",
    "                    validation_steps=validation_steps, class_weight=None, workers=1, initial_epoch=0)"
   ]
  },
  {
   "cell_type": "markdown",
   "metadata": {},
   "source": [
    "#### Lets make some variations in batch size\n",
    "#### Batch Size - 20"
   ]
  },
  {
   "cell_type": "code",
   "execution_count": 20,
   "metadata": {},
   "outputs": [],
   "source": [
    "train_generator = generator(train_path, train_doc, 20)\n",
    "val_generator = generator(val_path, val_doc, 20)"
   ]
  },
  {
   "cell_type": "code",
   "execution_count": 21,
   "metadata": {},
   "outputs": [
    {
     "name": "stdout",
     "output_type": "stream",
     "text": [
      "Source path =  /Project_data/train ; batch size = 20\n",
      "Epoch 1/10\n",
      "32/67 [=============>................] - ETA: 9:45 - loss: 1.0300 - categorical_accuracy: 0.5797 Batch:  34 Index: 20\n",
      "67/67 [==============================] - ETA: 0s - loss: 1.0419 - categorical_accuracy: 0.5787Source path =  /Project_data/val ; batch size = 20\n",
      "67/67 [==============================] - 729s 11s/step - loss: 1.0419 - categorical_accuracy: 0.5787 - val_loss: 0.9910 - val_categorical_accuracy: 0.6500\n",
      "\n",
      "Epoch 00001: saving model to model_init_2021-04-0500_27_47.853265\\model-00001-1.04194-0.57874-0.99098-0.65000.h5\n",
      "Epoch 2/10\n",
      "67/67 [==============================] - 279s 4s/step - loss: 1.2975 - categorical_accuracy: 0.4876 - val_loss: 1.1466 - val_categorical_accuracy: 0.4900\n",
      "\n",
      "Epoch 00002: saving model to model_init_2021-04-0500_27_47.853265\\model-00002-1.29754-0.48756-1.14660-0.49000.h5\n",
      "Epoch 3/10\n",
      "67/67 [==============================] - 293s 4s/step - loss: 1.1669 - categorical_accuracy: 0.5622 - val_loss: 1.0060 - val_categorical_accuracy: 0.5900\n",
      "\n",
      "Epoch 00003: saving model to model_init_2021-04-0500_27_47.853265\\model-00003-1.16688-0.56219-1.00602-0.59000.h5\n",
      "\n",
      "Epoch 00003: ReduceLROnPlateau reducing learning rate to 0.0005000000237487257.\n",
      "Epoch 4/10\n",
      "67/67 [==============================] - 280s 4s/step - loss: 1.1024 - categorical_accuracy: 0.5522 - val_loss: 0.9123 - val_categorical_accuracy: 0.6300\n",
      "\n",
      "Epoch 00004: saving model to model_init_2021-04-0500_27_47.853265\\model-00004-1.10243-0.55224-0.91233-0.63000.h5\n",
      "Epoch 5/10\n",
      "67/67 [==============================] - 289s 4s/step - loss: 0.8814 - categorical_accuracy: 0.6915 - val_loss: 0.8064 - val_categorical_accuracy: 0.6900\n",
      "\n",
      "Epoch 00005: saving model to model_init_2021-04-0500_27_47.853265\\model-00005-0.88142-0.69154-0.80640-0.69000.h5\n",
      "Epoch 6/10\n",
      "67/67 [==============================] - 298s 4s/step - loss: 0.9188 - categorical_accuracy: 0.6418 - val_loss: 0.7963 - val_categorical_accuracy: 0.6900\n",
      "\n",
      "Epoch 00006: saving model to model_init_2021-04-0500_27_47.853265\\model-00006-0.91883-0.64179-0.79634-0.69000.h5\n",
      "Epoch 7/10\n",
      "67/67 [==============================] - 311s 5s/step - loss: 0.8287 - categorical_accuracy: 0.6567 - val_loss: 0.8180 - val_categorical_accuracy: 0.6250\n",
      "\n",
      "Epoch 00007: saving model to model_init_2021-04-0500_27_47.853265\\model-00007-0.82871-0.65672-0.81800-0.62500.h5\n",
      "Epoch 8/10\n",
      "67/67 [==============================] - 287s 4s/step - loss: 0.7341 - categorical_accuracy: 0.7164 - val_loss: 0.8632 - val_categorical_accuracy: 0.6700\n",
      "\n",
      "Epoch 00008: saving model to model_init_2021-04-0500_27_47.853265\\model-00008-0.73408-0.71642-0.86318-0.67000.h5\n",
      "\n",
      "Epoch 00008: ReduceLROnPlateau reducing learning rate to 0.0002500000118743628.\n",
      "Epoch 9/10\n",
      "67/67 [==============================] - 282s 4s/step - loss: 0.8956 - categorical_accuracy: 0.6667 - val_loss: 0.7992 - val_categorical_accuracy: 0.6550\n",
      "\n",
      "Epoch 00009: saving model to model_init_2021-04-0500_27_47.853265\\model-00009-0.89561-0.66667-0.79921-0.65500.h5\n",
      "Epoch 10/10\n",
      "67/67 [==============================] - 289s 4s/step - loss: 0.7623 - categorical_accuracy: 0.7214 - val_loss: 0.6943 - val_categorical_accuracy: 0.6750\n",
      "\n",
      "Epoch 00010: saving model to model_init_2021-04-0500_27_47.853265\\model-00010-0.76228-0.72139-0.69431-0.67500.h5\n"
     ]
    },
    {
     "data": {
      "text/plain": [
       "<tensorflow.python.keras.callbacks.History at 0x26197ceddc0>"
      ]
     },
     "execution_count": 21,
     "metadata": {},
     "output_type": "execute_result"
    }
   ],
   "source": [
    "model_seq_1.fit_generator(train_generator, steps_per_epoch=steps_per_epoch, epochs=num_epochs, verbose=1, \n",
    "                    callbacks=callbacks_list, validation_data=val_generator, \n",
    "                    validation_steps=validation_steps, class_weight=None, workers=1, initial_epoch=0)"
   ]
  },
  {
   "cell_type": "markdown",
   "metadata": {},
   "source": [
    "#### Batch Size -  30"
   ]
  },
  {
   "cell_type": "code",
   "execution_count": 22,
   "metadata": {},
   "outputs": [],
   "source": [
    "train_generator = generator(train_path, train_doc, 30)\n",
    "val_generator = generator(val_path, val_doc, 30)"
   ]
  },
  {
   "cell_type": "code",
   "execution_count": 23,
   "metadata": {},
   "outputs": [
    {
     "name": "stdout",
     "output_type": "stream",
     "text": [
      "Source path =  /Project_data/train ; batch size = 30\n",
      "Epoch 1/10\n",
      "21/67 [========>.....................] - ETA: 19:56 - loss: 0.5895 - categorical_accuracy: 0.7937Batch:  23 Index: 30\n",
      "67/67 [==============================] - ETA: 0s - loss: 0.5950 - categorical_accuracy: 0.7874 Source path =  /Project_data/val ; batch size = 30\n",
      "Batch:  4 Index: 30\n",
      "67/67 [==============================] - 767s 11s/step - loss: 0.5950 - categorical_accuracy: 0.7874 - val_loss: 0.6531 - val_categorical_accuracy: 0.6938\n",
      "\n",
      "Epoch 00001: saving model to model_init_2021-04-0500_27_47.853265\\model-00001-0.59496-0.78742-0.65306-0.69375.h5\n",
      "Epoch 2/10\n",
      "67/67 [==============================] - 246s 4s/step - loss: 0.6111 - categorical_accuracy: 0.8010 - val_loss: 0.6282 - val_categorical_accuracy: 0.7600\n",
      "\n",
      "Epoch 00002: saving model to model_init_2021-04-0500_27_47.853265\\model-00002-0.61110-0.80100-0.62815-0.76000.h5\n",
      "Epoch 3/10\n",
      "67/67 [==============================] - 255s 4s/step - loss: 0.7064 - categorical_accuracy: 0.7413 - val_loss: 0.7934 - val_categorical_accuracy: 0.7000\n",
      "\n",
      "Epoch 00003: saving model to model_init_2021-04-0500_27_47.853265\\model-00003-0.70644-0.74129-0.79340-0.70000.h5\n",
      "Epoch 4/10\n",
      "67/67 [==============================] - 249s 4s/step - loss: 0.7132 - categorical_accuracy: 0.7463 - val_loss: 0.6979 - val_categorical_accuracy: 0.7200\n",
      "\n",
      "Epoch 00004: saving model to model_init_2021-04-0500_27_47.853265\\model-00004-0.71320-0.74627-0.69791-0.72000.h5\n",
      "\n",
      "Epoch 00004: ReduceLROnPlateau reducing learning rate to 0.0001250000059371814.\n",
      "Epoch 5/10\n",
      "67/67 [==============================] - 247s 4s/step - loss: 0.5549 - categorical_accuracy: 0.7910 - val_loss: 0.8001 - val_categorical_accuracy: 0.6600\n",
      "\n",
      "Epoch 00005: saving model to model_init_2021-04-0500_27_47.853265\\model-00005-0.55491-0.79104-0.80009-0.66000.h5\n",
      "Epoch 6/10\n",
      "67/67 [==============================] - 245s 4s/step - loss: 0.5765 - categorical_accuracy: 0.7910 - val_loss: 0.7289 - val_categorical_accuracy: 0.6200\n",
      "\n",
      "Epoch 00006: saving model to model_init_2021-04-0500_27_47.853265\\model-00006-0.57653-0.79104-0.72895-0.62000.h5\n",
      "\n",
      "Epoch 00006: ReduceLROnPlateau reducing learning rate to 6.25000029685907e-05.\n",
      "Epoch 7/10\n",
      "67/67 [==============================] - 244s 4s/step - loss: 0.6062 - categorical_accuracy: 0.7811 - val_loss: 0.6521 - val_categorical_accuracy: 0.6900\n",
      "\n",
      "Epoch 00007: saving model to model_init_2021-04-0500_27_47.853265\\model-00007-0.60625-0.78109-0.65210-0.69000.h5\n",
      "Epoch 8/10\n",
      "67/67 [==============================] - 247s 4s/step - loss: 0.4778 - categorical_accuracy: 0.8259 - val_loss: 0.5692 - val_categorical_accuracy: 0.7600\n",
      "\n",
      "Epoch 00008: saving model to model_init_2021-04-0500_27_47.853265\\model-00008-0.47780-0.82587-0.56921-0.76000.h5\n",
      "Epoch 9/10\n",
      "67/67 [==============================] - 243s 4s/step - loss: 0.6397 - categorical_accuracy: 0.7761 - val_loss: 0.6774 - val_categorical_accuracy: 0.6900\n",
      "\n",
      "Epoch 00009: saving model to model_init_2021-04-0500_27_47.853265\\model-00009-0.63969-0.77612-0.67744-0.69000.h5\n",
      "Epoch 10/10\n",
      "67/67 [==============================] - 248s 4s/step - loss: 0.5790 - categorical_accuracy: 0.8209 - val_loss: 0.5609 - val_categorical_accuracy: 0.7400\n",
      "\n",
      "Epoch 00010: saving model to model_init_2021-04-0500_27_47.853265\\model-00010-0.57896-0.82090-0.56086-0.74000.h5\n"
     ]
    },
    {
     "data": {
      "text/plain": [
       "<tensorflow.python.keras.callbacks.History at 0x26190252280>"
      ]
     },
     "execution_count": 23,
     "metadata": {},
     "output_type": "execute_result"
    }
   ],
   "source": [
    "model_seq_1.fit_generator(train_generator, steps_per_epoch=steps_per_epoch, epochs=num_epochs, verbose=1, \n",
    "                    callbacks=callbacks_list, validation_data=val_generator, \n",
    "                    validation_steps=validation_steps, class_weight=None, workers=1, initial_epoch=0)"
   ]
  },
  {
   "cell_type": "markdown",
   "metadata": {},
   "source": [
    "#### Batch Size - 40"
   ]
  },
  {
   "cell_type": "code",
   "execution_count": 24,
   "metadata": {},
   "outputs": [],
   "source": [
    "train_generator = generator(train_path, train_doc, 40)\n",
    "val_generator = generator(val_path, val_doc, 40)"
   ]
  },
  {
   "cell_type": "code",
   "execution_count": 25,
   "metadata": {},
   "outputs": [
    {
     "name": "stdout",
     "output_type": "stream",
     "text": [
      "Source path =  /Project_data/train ; batch size = 40\n",
      "Epoch 1/10\n",
      "15/67 [=====>........................] - ETA: 28:43 - loss: 0.4387 - categorical_accuracy: 0.8433Batch:  17 Index: 40\n",
      "44/67 [==================>...........] - ETA: 9:16 - loss: 0.4614 - categorical_accuracy: 0.8349Batch:  29 Index: 23\n",
      "67/67 [==============================] - ETA: 0s - loss: 0.4737 - categorical_accuracy: 0.8296 Source path =  /Project_data/val ; batch size = 40\n",
      "Batch:  3 Index: 40\n",
      "67/67 [==============================] - 1550s 23s/step - loss: 0.4737 - categorical_accuracy: 0.8296 - val_loss: 0.6090 - val_categorical_accuracy: 0.7292\n",
      "\n",
      "Epoch 00001: saving model to model_init_2021-04-0500_27_47.853265\\model-00001-0.47371-0.82957-0.60903-0.72917.h5\n",
      "Epoch 2/10\n",
      "12/67 [====>.........................] - ETA: 15:20 - loss: 0.3777 - categorical_accuracy: 0.8772Batch:  35 Index: 19\n",
      "67/67 [==============================] - 1072s 16s/step - loss: 0.4080 - categorical_accuracy: 0.8609 - val_loss: 0.6635 - val_categorical_accuracy: 0.6900\n",
      "\n",
      "Epoch 00002: saving model to model_init_2021-04-0500_27_47.853265\\model-00002-0.40795-0.86094-0.66351-0.69000.h5\n",
      "Epoch 3/10\n",
      "67/67 [==============================] - 1040s 16s/step - loss: 0.4753 - categorical_accuracy: 0.8227 - val_loss: 0.5912 - val_categorical_accuracy: 0.7300\n",
      "\n",
      "Epoch 00003: saving model to model_init_2021-04-0500_27_47.853265\\model-00003-0.47526-0.82265-0.59117-0.73000.h5\n",
      "Epoch 4/10\n",
      "67/67 [==============================] - 1042s 16s/step - loss: 0.4280 - categorical_accuracy: 0.8341 - val_loss: 0.6105 - val_categorical_accuracy: 0.7200\n",
      "\n",
      "Epoch 00004: saving model to model_init_2021-04-0500_27_47.853265\\model-00004-0.42798-0.83406-0.61048-0.72000.h5\n",
      "Epoch 5/10\n",
      "67/67 [==============================] - 1039s 16s/step - loss: 0.4126 - categorical_accuracy: 0.8481 - val_loss: 0.5963 - val_categorical_accuracy: 0.7000\n",
      "\n",
      "Epoch 00005: saving model to model_init_2021-04-0500_27_47.853265\\model-00005-0.41264-0.84811-0.59631-0.70000.h5\n",
      "\n",
      "Epoch 00005: ReduceLROnPlateau reducing learning rate to 3.125000148429535e-05.\n",
      "Epoch 6/10\n",
      "67/67 [==============================] - 1040s 16s/step - loss: 0.4092 - categorical_accuracy: 0.8551 - val_loss: 0.6289 - val_categorical_accuracy: 0.6750\n",
      "\n",
      "Epoch 00006: saving model to model_init_2021-04-0500_27_47.853265\\model-00006-0.40919-0.85514-0.62886-0.67500.h5\n",
      "Epoch 7/10\n",
      "67/67 [==============================] - 1046s 16s/step - loss: 0.3976 - categorical_accuracy: 0.8586 - val_loss: 0.5511 - val_categorical_accuracy: 0.7350\n",
      "\n",
      "Epoch 00007: saving model to model_init_2021-04-0500_27_47.853265\\model-00007-0.39759-0.85865-0.55113-0.73500.h5\n",
      "Epoch 8/10\n",
      "67/67 [==============================] - 1042s 16s/step - loss: 0.4085 - categorical_accuracy: 0.8569 - val_loss: 0.5700 - val_categorical_accuracy: 0.7200\n",
      "\n",
      "Epoch 00008: saving model to model_init_2021-04-0500_27_47.853265\\model-00008-0.40855-0.85689-0.56998-0.72000.h5\n",
      "Epoch 9/10\n",
      "67/67 [==============================] - 1038s 16s/step - loss: 0.3615 - categorical_accuracy: 0.8665 - val_loss: 0.5939 - val_categorical_accuracy: 0.7100\n",
      "\n",
      "Epoch 00009: saving model to model_init_2021-04-0500_27_47.853265\\model-00009-0.36151-0.86655-0.59387-0.71000.h5\n",
      "\n",
      "Epoch 00009: ReduceLROnPlateau reducing learning rate to 1.5625000742147677e-05.\n",
      "Epoch 10/10\n",
      "67/67 [==============================] - 1043s 16s/step - loss: 0.4045 - categorical_accuracy: 0.8507 - val_loss: 0.5860 - val_categorical_accuracy: 0.7150\n",
      "\n",
      "Epoch 00010: saving model to model_init_2021-04-0500_27_47.853265\\model-00010-0.40455-0.85075-0.58604-0.71500.h5\n"
     ]
    },
    {
     "data": {
      "text/plain": [
       "<tensorflow.python.keras.callbacks.History at 0x26197ce5ee0>"
      ]
     },
     "execution_count": 25,
     "metadata": {},
     "output_type": "execute_result"
    }
   ],
   "source": [
    "model_seq_1.fit_generator(train_generator, steps_per_epoch=steps_per_epoch, epochs=num_epochs, verbose=1, \n",
    "                    callbacks=callbacks_list, validation_data=val_generator, \n",
    "                    validation_steps=validation_steps, class_weight=None, workers=1, initial_epoch=0)"
   ]
  },
  {
   "cell_type": "markdown",
   "metadata": {},
   "source": [
    "#### Lets Change Optimizer to Adadelta Experiment"
   ]
  },
  {
   "cell_type": "code",
   "execution_count": 27,
   "metadata": {},
   "outputs": [
    {
     "name": "stdout",
     "output_type": "stream",
     "text": [
      "Model: \"sequential\"\n",
      "_________________________________________________________________\n",
      "Layer (type)                 Output Shape              Param #   \n",
      "=================================================================\n",
      "conv3d (Conv3D)              (None, 30, 120, 120, 8)   656       \n",
      "_________________________________________________________________\n",
      "batch_normalization (BatchNo (None, 30, 120, 120, 8)   32        \n",
      "_________________________________________________________________\n",
      "activation (Activation)      (None, 30, 120, 120, 8)   0         \n",
      "_________________________________________________________________\n",
      "max_pooling3d (MaxPooling3D) (None, 15, 60, 60, 8)     0         \n",
      "_________________________________________________________________\n",
      "conv3d_1 (Conv3D)            (None, 15, 60, 60, 16)    3472      \n",
      "_________________________________________________________________\n",
      "batch_normalization_1 (Batch (None, 15, 60, 60, 16)    64        \n",
      "_________________________________________________________________\n",
      "activation_1 (Activation)    (None, 15, 60, 60, 16)    0         \n",
      "_________________________________________________________________\n",
      "max_pooling3d_1 (MaxPooling3 (None, 7, 30, 30, 16)     0         \n",
      "_________________________________________________________________\n",
      "conv3d_2 (Conv3D)            (None, 7, 30, 30, 32)     4640      \n",
      "_________________________________________________________________\n",
      "batch_normalization_2 (Batch (None, 7, 30, 30, 32)     128       \n",
      "_________________________________________________________________\n",
      "activation_2 (Activation)    (None, 7, 30, 30, 32)     0         \n",
      "_________________________________________________________________\n",
      "max_pooling3d_2 (MaxPooling3 (None, 3, 15, 15, 32)     0         \n",
      "_________________________________________________________________\n",
      "conv3d_3 (Conv3D)            (None, 3, 15, 15, 64)     18496     \n",
      "_________________________________________________________________\n",
      "batch_normalization_3 (Batch (None, 3, 15, 15, 64)     256       \n",
      "_________________________________________________________________\n",
      "activation_3 (Activation)    (None, 3, 15, 15, 64)     0         \n",
      "_________________________________________________________________\n",
      "max_pooling3d_3 (MaxPooling3 (None, 1, 7, 7, 64)       0         \n",
      "_________________________________________________________________\n",
      "flatten (Flatten)            (None, 3136)              0         \n",
      "_________________________________________________________________\n",
      "dense (Dense)                (None, 1000)              3137000   \n",
      "_________________________________________________________________\n",
      "dropout (Dropout)            (None, 1000)              0         \n",
      "_________________________________________________________________\n",
      "dense_1 (Dense)              (None, 500)               500500    \n",
      "_________________________________________________________________\n",
      "dropout_1 (Dropout)          (None, 500)               0         \n",
      "_________________________________________________________________\n",
      "dense_2 (Dense)              (None, 5)                 2505      \n",
      "=================================================================\n",
      "Total params: 3,667,749\n",
      "Trainable params: 3,667,509\n",
      "Non-trainable params: 240\n",
      "_________________________________________________________________\n"
     ]
    }
   ],
   "source": [
    "import keras\n",
    "model_seq_1.compile(optimizer=keras.optimizers.Adadelta(), loss='categorical_crossentropy', metrics=['categorical_accuracy'])\n",
    "model_seq_1.summary()"
   ]
  },
  {
   "cell_type": "code",
   "execution_count": 28,
   "metadata": {},
   "outputs": [],
   "source": [
    "train_generator = generator(train_path, train_doc, 40)\n",
    "val_generator = generator(val_path, val_doc, 40)"
   ]
  },
  {
   "cell_type": "code",
   "execution_count": 29,
   "metadata": {
    "scrolled": true
   },
   "outputs": [
    {
     "name": "stdout",
     "output_type": "stream",
     "text": [
      "Source path =  /Project_data/train ; batch size = 40\n",
      "Epoch 1/10\n",
      "15/67 [=====>........................] - ETA: 29:00 - loss: 0.4409 - categorical_accuracy: 0.8507Batch:  17 Index: 40\n",
      "44/67 [==================>...........] - ETA: 9:18 - loss: 0.4254 - categorical_accuracy: 0.8460Batch:  29 Index: 23\n",
      "67/67 [==============================] - ETA: 0s - loss: 0.4196 - categorical_accuracy: 0.8466 Source path =  /Project_data/val ; batch size = 40\n",
      "Batch:  3 Index: 40\n",
      "67/67 [==============================] - 1535s 23s/step - loss: 0.4193 - categorical_accuracy: 0.8467 - val_loss: 0.5848 - val_categorical_accuracy: 0.7292\n",
      "\n",
      "Epoch 00001: saving model to model_init_2021-04-0500_27_47.853265\\model-00001-0.40436-0.85043-0.58475-0.72917.h5\n",
      "Epoch 2/10\n",
      "12/67 [====>.........................] - ETA: 15:01 - loss: 0.3969 - categorical_accuracy: 0.8644Batch:  35 Index: 19\n",
      "67/67 [==============================] - 1067s 16s/step - loss: 0.3807 - categorical_accuracy: 0.8701 - val_loss: 0.5653 - val_categorical_accuracy: 0.7150\n",
      "\n",
      "Epoch 00002: saving model to model_init_2021-04-0500_27_47.853265\\model-00002-0.36850-0.87210-0.56526-0.71500.h5\n",
      "Epoch 3/10\n",
      "67/67 [==============================] - 1041s 16s/step - loss: 0.4315 - categorical_accuracy: 0.8218 - val_loss: 0.5970 - val_categorical_accuracy: 0.7050\n",
      "\n",
      "Epoch 00003: saving model to model_init_2021-04-0500_27_47.853265\\model-00003-0.41323-0.83933-0.59702-0.70500.h5\n",
      "Epoch 4/10\n",
      "67/67 [==============================] - 1044s 16s/step - loss: 0.4006 - categorical_accuracy: 0.8601 - val_loss: 0.5999 - val_categorical_accuracy: 0.7100\n",
      "\n",
      "Epoch 00004: saving model to model_init_2021-04-0500_27_47.853265\\model-00004-0.39505-0.85514-0.59988-0.71000.h5\n",
      "\n",
      "Epoch 00004: ReduceLROnPlateau reducing learning rate to 0.0005000000237487257.\n",
      "Epoch 5/10\n",
      "67/67 [==============================] - 1047s 16s/step - loss: 0.3893 - categorical_accuracy: 0.8636 - val_loss: 0.5632 - val_categorical_accuracy: 0.7350\n",
      "\n",
      "Epoch 00005: saving model to model_init_2021-04-0500_27_47.853265\\model-00005-0.38111-0.86392-0.56316-0.73500.h5\n",
      "Epoch 6/10\n",
      "67/67 [==============================] - 1052s 16s/step - loss: 0.4437 - categorical_accuracy: 0.8365 - val_loss: 0.6396 - val_categorical_accuracy: 0.6850\n",
      "\n",
      "Epoch 00006: saving model to model_init_2021-04-0500_27_47.853265\\model-00006-0.40582-0.85338-0.63962-0.68500.h5\n",
      "Epoch 7/10\n",
      "67/67 [==============================] - 1052s 16s/step - loss: 0.3883 - categorical_accuracy: 0.8747 - val_loss: 0.5837 - val_categorical_accuracy: 0.7050\n",
      "\n",
      "Epoch 00007: saving model to model_init_2021-04-0500_27_47.853265\\model-00007-0.40402-0.85075-0.58365-0.70500.h5\n",
      "\n",
      "Epoch 00007: ReduceLROnPlateau reducing learning rate to 0.0002500000118743628.\n",
      "Epoch 8/10\n",
      "67/67 [==============================] - 1816s 27s/step - loss: 0.3834 - categorical_accuracy: 0.8588 - val_loss: 0.6130 - val_categorical_accuracy: 0.7150\n",
      "\n",
      "Epoch 00008: saving model to model_init_2021-04-0500_27_47.853265\\model-00008-0.38886-0.85865-0.61300-0.71500.h5\n",
      "Epoch 9/10\n",
      "67/67 [==============================] - 2140s 32s/step - loss: 0.3889 - categorical_accuracy: 0.8665 - val_loss: 0.5987 - val_categorical_accuracy: 0.7100\n",
      "\n",
      "Epoch 00009: saving model to model_init_2021-04-0500_27_47.853265\\model-00009-0.38929-0.86567-0.59865-0.71000.h5\n",
      "\n",
      "Epoch 00009: ReduceLROnPlateau reducing learning rate to 0.0001250000059371814.\n",
      "Epoch 10/10\n",
      "67/67 [==============================] - 2140s 32s/step - loss: 0.4339 - categorical_accuracy: 0.8500 - val_loss: 0.6260 - val_categorical_accuracy: 0.7050\n",
      "\n",
      "Epoch 00010: saving model to model_init_2021-04-0500_27_47.853265\\model-00010-0.40955-0.85426-0.62603-0.70500.h5\n"
     ]
    },
    {
     "data": {
      "text/plain": [
       "<tensorflow.python.keras.callbacks.History at 0x26197dff460>"
      ]
     },
     "execution_count": 29,
     "metadata": {},
     "output_type": "execute_result"
    }
   ],
   "source": [
    "model_seq_1.fit_generator(train_generator, steps_per_epoch=steps_per_epoch, epochs=num_epochs, verbose=1, \n",
    "                    callbacks=callbacks_list, validation_data=val_generator, \n",
    "                    validation_steps=validation_steps, class_weight=None, workers=1, initial_epoch=0)"
   ]
  },
  {
   "cell_type": "markdown",
   "metadata": {},
   "source": [
    "#### Lets change epochs to 20"
   ]
  },
  {
   "cell_type": "code",
   "execution_count": 30,
   "metadata": {},
   "outputs": [
    {
     "name": "stdout",
     "output_type": "stream",
     "text": [
      "# epochs = 20\n"
     ]
    }
   ],
   "source": [
    "num_epochs = 20\n",
    "print ('# epochs =', num_epochs)"
   ]
  },
  {
   "cell_type": "code",
   "execution_count": 31,
   "metadata": {},
   "outputs": [
    {
     "name": "stdout",
     "output_type": "stream",
     "text": [
      "Model: \"sequential\"\n",
      "_________________________________________________________________\n",
      "Layer (type)                 Output Shape              Param #   \n",
      "=================================================================\n",
      "conv3d (Conv3D)              (None, 30, 120, 120, 8)   656       \n",
      "_________________________________________________________________\n",
      "batch_normalization (BatchNo (None, 30, 120, 120, 8)   32        \n",
      "_________________________________________________________________\n",
      "activation (Activation)      (None, 30, 120, 120, 8)   0         \n",
      "_________________________________________________________________\n",
      "max_pooling3d (MaxPooling3D) (None, 15, 60, 60, 8)     0         \n",
      "_________________________________________________________________\n",
      "conv3d_1 (Conv3D)            (None, 15, 60, 60, 16)    3472      \n",
      "_________________________________________________________________\n",
      "batch_normalization_1 (Batch (None, 15, 60, 60, 16)    64        \n",
      "_________________________________________________________________\n",
      "activation_1 (Activation)    (None, 15, 60, 60, 16)    0         \n",
      "_________________________________________________________________\n",
      "max_pooling3d_1 (MaxPooling3 (None, 7, 30, 30, 16)     0         \n",
      "_________________________________________________________________\n",
      "conv3d_2 (Conv3D)            (None, 7, 30, 30, 32)     4640      \n",
      "_________________________________________________________________\n",
      "batch_normalization_2 (Batch (None, 7, 30, 30, 32)     128       \n",
      "_________________________________________________________________\n",
      "activation_2 (Activation)    (None, 7, 30, 30, 32)     0         \n",
      "_________________________________________________________________\n",
      "max_pooling3d_2 (MaxPooling3 (None, 3, 15, 15, 32)     0         \n",
      "_________________________________________________________________\n",
      "conv3d_3 (Conv3D)            (None, 3, 15, 15, 64)     18496     \n",
      "_________________________________________________________________\n",
      "batch_normalization_3 (Batch (None, 3, 15, 15, 64)     256       \n",
      "_________________________________________________________________\n",
      "activation_3 (Activation)    (None, 3, 15, 15, 64)     0         \n",
      "_________________________________________________________________\n",
      "max_pooling3d_3 (MaxPooling3 (None, 1, 7, 7, 64)       0         \n",
      "_________________________________________________________________\n",
      "flatten (Flatten)            (None, 3136)              0         \n",
      "_________________________________________________________________\n",
      "dense (Dense)                (None, 1000)              3137000   \n",
      "_________________________________________________________________\n",
      "dropout (Dropout)            (None, 1000)              0         \n",
      "_________________________________________________________________\n",
      "dense_1 (Dense)              (None, 500)               500500    \n",
      "_________________________________________________________________\n",
      "dropout_1 (Dropout)          (None, 500)               0         \n",
      "_________________________________________________________________\n",
      "dense_2 (Dense)              (None, 5)                 2505      \n",
      "=================================================================\n",
      "Total params: 3,667,749\n",
      "Trainable params: 3,667,509\n",
      "Non-trainable params: 240\n",
      "_________________________________________________________________\n"
     ]
    }
   ],
   "source": [
    "import keras\n",
    "model_seq_1.compile(optimizer=keras.optimizers.Adadelta(), loss='categorical_crossentropy', metrics=['categorical_accuracy'])\n",
    "model_seq_1.summary()"
   ]
  },
  {
   "cell_type": "code",
   "execution_count": 32,
   "metadata": {},
   "outputs": [],
   "source": [
    "train_generator = generator(train_path, train_doc, 40)\n",
    "val_generator = generator(val_path, val_doc, 40)"
   ]
  },
  {
   "cell_type": "code",
   "execution_count": 33,
   "metadata": {},
   "outputs": [
    {
     "name": "stdout",
     "output_type": "stream",
     "text": [
      "Source path =  /Project_data/train ; batch size = 40\n",
      "Epoch 1/20\n",
      "15/67 [=====>........................] - ETA: 58:40 - loss: 0.3711 - categorical_accuracy: 0.8782 Batch:  17 Index: 40\n",
      "44/67 [==================>...........] - ETA: 16:46 - loss: 0.3780 - categorical_accuracy: 0.8697Batch:  29 Index: 23\n",
      "67/67 [==============================] - ETA: 0s - loss: 0.3806 - categorical_accuracy: 0.8674 Source path =  /Project_data/val ; batch size = 40\n",
      "Batch:  3 Index: 40\n",
      "67/67 [==============================] - 2440s 36s/step - loss: 0.3807 - categorical_accuracy: 0.8674 - val_loss: 0.5855 - val_categorical_accuracy: 0.7333\n",
      "\n",
      "Epoch 00001: saving model to model_init_2021-04-0500_27_47.853265\\model-00001-0.38451-0.86261-0.58548-0.73333.h5\n",
      "Epoch 2/20\n",
      "12/67 [====>.........................] - ETA: 15:28 - loss: 0.4296 - categorical_accuracy: 0.8044Batch:  35 Index: 19\n",
      "67/67 [==============================] - 1083s 16s/step - loss: 0.4133 - categorical_accuracy: 0.8334 - val_loss: 0.6214 - val_categorical_accuracy: 0.6850\n",
      "\n",
      "Epoch 00002: saving model to model_init_2021-04-0500_27_47.853265\\model-00002-0.41126-0.84464-0.62139-0.68500.h5\n",
      "Epoch 3/20\n",
      "67/67 [==============================] - 1055s 16s/step - loss: 0.3880 - categorical_accuracy: 0.8471 - val_loss: 0.5894 - val_categorical_accuracy: 0.7100\n",
      "\n",
      "Epoch 00003: saving model to model_init_2021-04-0500_27_47.853265\\model-00003-0.39911-0.84372-0.58939-0.71000.h5\n",
      "\n",
      "Epoch 00003: ReduceLROnPlateau reducing learning rate to 0.0005000000237487257.\n",
      "Epoch 4/20\n",
      "67/67 [==============================] - 1066s 16s/step - loss: 0.3901 - categorical_accuracy: 0.8653 - val_loss: 0.5982 - val_categorical_accuracy: 0.7100\n",
      "\n",
      "Epoch 00004: saving model to model_init_2021-04-0500_27_47.853265\\model-00004-0.38689-0.86392-0.59819-0.71000.h5\n",
      "Epoch 5/20\n",
      "67/67 [==============================] - 1056s 16s/step - loss: 0.4168 - categorical_accuracy: 0.8513 - val_loss: 0.6461 - val_categorical_accuracy: 0.6850\n",
      "\n",
      "Epoch 00005: saving model to model_init_2021-04-0500_27_47.853265\\model-00005-0.40242-0.86040-0.64611-0.68500.h5\n",
      "\n",
      "Epoch 00005: ReduceLROnPlateau reducing learning rate to 0.0002500000118743628.\n",
      "Epoch 6/20\n",
      "67/67 [==============================] - 1055s 16s/step - loss: 0.3883 - categorical_accuracy: 0.8550 - val_loss: 0.5920 - val_categorical_accuracy: 0.7200\n",
      "\n",
      "Epoch 00006: saving model to model_init_2021-04-0500_27_47.853265\\model-00006-0.38774-0.86392-0.59199-0.72000.h5\n",
      "Epoch 7/20\n",
      "67/67 [==============================] - 1056s 16s/step - loss: 0.3620 - categorical_accuracy: 0.8714 - val_loss: 0.6020 - val_categorical_accuracy: 0.7100\n",
      "\n",
      "Epoch 00007: saving model to model_init_2021-04-0500_27_47.853265\\model-00007-0.38129-0.86040-0.60200-0.71000.h5\n",
      "\n",
      "Epoch 00007: ReduceLROnPlateau reducing learning rate to 0.0001250000059371814.\n",
      "Epoch 8/20\n",
      "67/67 [==============================] - 1055s 16s/step - loss: 0.3529 - categorical_accuracy: 0.8733 - val_loss: 0.5762 - val_categorical_accuracy: 0.7150\n",
      "\n",
      "Epoch 00008: saving model to model_init_2021-04-0500_27_47.853265\\model-00008-0.37355-0.86743-0.57624-0.71500.h5\n",
      "Epoch 9/20\n",
      "67/67 [==============================] - 1066s 16s/step - loss: 0.3809 - categorical_accuracy: 0.8679 - val_loss: 0.5971 - val_categorical_accuracy: 0.7100\n",
      "\n",
      "Epoch 00009: saving model to model_init_2021-04-0500_27_47.853265\\model-00009-0.38501-0.85953-0.59710-0.71000.h5\n",
      "Epoch 10/20\n",
      "67/67 [==============================] - 1063s 16s/step - loss: 0.3636 - categorical_accuracy: 0.8729 - val_loss: 0.6323 - val_categorical_accuracy: 0.6950\n",
      "\n",
      "Epoch 00010: saving model to model_init_2021-04-0500_27_47.853265\\model-00010-0.39250-0.86304-0.63230-0.69500.h5\n",
      "\n",
      "Epoch 00010: ReduceLROnPlateau reducing learning rate to 6.25000029685907e-05.\n",
      "Epoch 11/20\n",
      "67/67 [==============================] - 1061s 16s/step - loss: 0.4081 - categorical_accuracy: 0.8457 - val_loss: 0.5741 - val_categorical_accuracy: 0.7250\n",
      "\n",
      "Epoch 00011: saving model to model_init_2021-04-0500_27_47.853265\\model-00011-0.41230-0.84548-0.57408-0.72500.h5\n",
      "Epoch 12/20\n",
      "67/67 [==============================] - 1053s 16s/step - loss: 0.4031 - categorical_accuracy: 0.8451 - val_loss: 0.6250 - val_categorical_accuracy: 0.6800\n",
      "\n",
      "Epoch 00012: saving model to model_init_2021-04-0500_27_47.853265\\model-00012-0.39521-0.84636-0.62503-0.68000.h5\n",
      "Epoch 13/20\n",
      "67/67 [==============================] - 1054s 16s/step - loss: 0.3468 - categorical_accuracy: 0.8695 - val_loss: 0.5382 - val_categorical_accuracy: 0.7400\n",
      "\n",
      "Epoch 00013: saving model to model_init_2021-04-0500_27_47.853265\\model-00013-0.36475-0.86831-0.53821-0.74000.h5\n",
      "Epoch 14/20\n",
      "67/67 [==============================] - 1046s 16s/step - loss: 0.3723 - categorical_accuracy: 0.8707 - val_loss: 0.5979 - val_categorical_accuracy: 0.7100\n",
      "\n",
      "Epoch 00014: saving model to model_init_2021-04-0500_27_47.853265\\model-00014-0.38634-0.86743-0.59792-0.71000.h5\n",
      "Epoch 15/20\n",
      "67/67 [==============================] - 1059s 16s/step - loss: 0.3758 - categorical_accuracy: 0.8742 - val_loss: 0.6022 - val_categorical_accuracy: 0.7050\n",
      "\n",
      "Epoch 00015: saving model to model_init_2021-04-0500_27_47.853265\\model-00015-0.36792-0.87709-0.60222-0.70500.h5\n",
      "\n",
      "Epoch 00015: ReduceLROnPlateau reducing learning rate to 3.125000148429535e-05.\n",
      "Epoch 16/20\n",
      "67/67 [==============================] - 1064s 16s/step - loss: 0.4227 - categorical_accuracy: 0.8341 - val_loss: 0.6413 - val_categorical_accuracy: 0.7000\n",
      "\n",
      "Epoch 00016: saving model to model_init_2021-04-0500_27_47.853265\\model-00016-0.41177-0.83845-0.64128-0.70000.h5\n",
      "Epoch 17/20\n",
      "67/67 [==============================] - 1070s 16s/step - loss: 0.3803 - categorical_accuracy: 0.8568 - val_loss: 0.5943 - val_categorical_accuracy: 0.7000\n",
      "\n",
      "Epoch 00017: saving model to model_init_2021-04-0500_27_47.853265\\model-00017-0.37336-0.86655-0.59433-0.70000.h5\n",
      "\n",
      "Epoch 00017: ReduceLROnPlateau reducing learning rate to 1.5625000742147677e-05.\n",
      "Epoch 18/20\n",
      "67/67 [==============================] - 1067s 16s/step - loss: 0.3844 - categorical_accuracy: 0.8678 - val_loss: 0.6132 - val_categorical_accuracy: 0.7050\n",
      "\n",
      "Epoch 00018: saving model to model_init_2021-04-0500_27_47.853265\\model-00018-0.39233-0.85865-0.61324-0.70500.h5\n",
      "Epoch 19/20\n",
      "67/67 [==============================] - 1061s 16s/step - loss: 0.3759 - categorical_accuracy: 0.8634 - val_loss: 0.5973 - val_categorical_accuracy: 0.7100\n",
      "\n",
      "Epoch 00019: saving model to model_init_2021-04-0500_27_47.853265\\model-00019-0.39219-0.86128-0.59734-0.71000.h5\n",
      "\n",
      "Epoch 00019: ReduceLROnPlateau reducing learning rate to 7.812500371073838e-06.\n",
      "Epoch 20/20\n",
      "67/67 [==============================] - 1069s 16s/step - loss: 0.3910 - categorical_accuracy: 0.8689 - val_loss: 0.6034 - val_categorical_accuracy: 0.6950\n",
      "\n",
      "Epoch 00020: saving model to model_init_2021-04-0500_27_47.853265\\model-00020-0.40721-0.85514-0.60344-0.69500.h5\n"
     ]
    },
    {
     "data": {
      "text/plain": [
       "<tensorflow.python.keras.callbacks.History at 0x2618ffbc820>"
      ]
     },
     "execution_count": 33,
     "metadata": {},
     "output_type": "execute_result"
    }
   ],
   "source": [
    "model_seq_1.fit_generator(train_generator, steps_per_epoch=steps_per_epoch, epochs=num_epochs, verbose=1, \n",
    "                    callbacks=callbacks_list, validation_data=val_generator, \n",
    "                    validation_steps=validation_steps, class_weight=None, workers=1, initial_epoch=0)"
   ]
  },
  {
   "cell_type": "markdown",
   "metadata": {},
   "source": [
    "##### The Final Model"
   ]
  },
  {
   "cell_type": "code",
   "execution_count": 35,
   "metadata": {},
   "outputs": [],
   "source": [
    "nb_filters = [8,16,32,64]\n",
    "nb_dense = [256, 128, 5]\n",
    "\n",
    "# Input\n",
    "input_shape=(30,120,120,3)\n",
    "\n",
    "# Define model\n",
    "model_last = Sequential()"
   ]
  },
  {
   "cell_type": "code",
   "execution_count": 36,
   "metadata": {},
   "outputs": [],
   "source": [
    "#1-------------\n",
    "model_last.add(Conv3D(nb_filters[0], \n",
    "                 kernel_size=(3,3,3), \n",
    "                 input_shape=input_shape,\n",
    "                 padding='same'))\n",
    "model_last.add(BatchNormalization())\n",
    "model_last.add(Activation('relu'))\n",
    "\n",
    "model_last.add(MaxPooling3D(pool_size=(2,2,2)))\n",
    "\n",
    "#2--------------\n",
    "model_last.add(Conv3D(nb_filters[1], \n",
    "                 kernel_size=(3,3,3), \n",
    "                 padding='same'))\n",
    "model_last.add(BatchNormalization())\n",
    "model_last.add(Activation('relu'))\n",
    "\n",
    "model_last.add(MaxPooling3D(pool_size=(2,2,2)))\n",
    "\n",
    "#3--------------\n",
    "model_last.add(Conv3D(nb_filters[2], \n",
    "                 kernel_size=(1,3,3), \n",
    "                 padding='same'))\n",
    "model_last.add(BatchNormalization())\n",
    "model_last.add(Activation('relu'))\n",
    "\n",
    "model_last.add(MaxPooling3D(pool_size=(2,2,2)))\n",
    "\n",
    "#4--------------\n",
    "model_last.add(Conv3D(nb_filters[3], \n",
    "                 kernel_size=(1,3,3), \n",
    "                 padding='same'))\n",
    "model_last.add(Activation('relu'))\n",
    "model_last.add(Dropout(0.25))\n",
    "\n",
    "model_last.add(MaxPooling3D(pool_size=(2,2,2)))"
   ]
  },
  {
   "cell_type": "markdown",
   "metadata": {},
   "source": [
    "#### Lets Flatten the layers"
   ]
  },
  {
   "cell_type": "code",
   "execution_count": 37,
   "metadata": {},
   "outputs": [],
   "source": [
    "model_last.add(Flatten())\n",
    "\n",
    "model_last.add(Dense(nb_dense[0], activation='relu'))\n",
    "model_last.add(Dropout(0.5))\n",
    "\n",
    "model_last.add(Dense(nb_dense[1], activation='relu'))\n",
    "model_last.add(Dropout(0.5))"
   ]
  },
  {
   "cell_type": "markdown",
   "metadata": {},
   "source": [
    "#### Add Softmax Layer"
   ]
  },
  {
   "cell_type": "code",
   "execution_count": 38,
   "metadata": {},
   "outputs": [],
   "source": [
    "model_last.add(Dense(nb_dense[2], activation='softmax'))"
   ]
  },
  {
   "cell_type": "markdown",
   "metadata": {},
   "source": [
    "#### Lets optimize using Adam"
   ]
  },
  {
   "cell_type": "code",
   "execution_count": 39,
   "metadata": {},
   "outputs": [
    {
     "name": "stdout",
     "output_type": "stream",
     "text": [
      "Model: \"sequential_2\"\n",
      "_________________________________________________________________\n",
      "Layer (type)                 Output Shape              Param #   \n",
      "=================================================================\n",
      "conv3d_4 (Conv3D)            (None, 30, 120, 120, 8)   656       \n",
      "_________________________________________________________________\n",
      "batch_normalization_4 (Batch (None, 30, 120, 120, 8)   32        \n",
      "_________________________________________________________________\n",
      "activation_4 (Activation)    (None, 30, 120, 120, 8)   0         \n",
      "_________________________________________________________________\n",
      "max_pooling3d_4 (MaxPooling3 (None, 15, 60, 60, 8)     0         \n",
      "_________________________________________________________________\n",
      "conv3d_5 (Conv3D)            (None, 15, 60, 60, 16)    3472      \n",
      "_________________________________________________________________\n",
      "batch_normalization_5 (Batch (None, 15, 60, 60, 16)    64        \n",
      "_________________________________________________________________\n",
      "activation_5 (Activation)    (None, 15, 60, 60, 16)    0         \n",
      "_________________________________________________________________\n",
      "max_pooling3d_5 (MaxPooling3 (None, 7, 30, 30, 16)     0         \n",
      "_________________________________________________________________\n",
      "conv3d_6 (Conv3D)            (None, 7, 30, 30, 32)     4640      \n",
      "_________________________________________________________________\n",
      "batch_normalization_6 (Batch (None, 7, 30, 30, 32)     128       \n",
      "_________________________________________________________________\n",
      "activation_6 (Activation)    (None, 7, 30, 30, 32)     0         \n",
      "_________________________________________________________________\n",
      "max_pooling3d_6 (MaxPooling3 (None, 3, 15, 15, 32)     0         \n",
      "_________________________________________________________________\n",
      "conv3d_7 (Conv3D)            (None, 3, 15, 15, 64)     18496     \n",
      "_________________________________________________________________\n",
      "activation_7 (Activation)    (None, 3, 15, 15, 64)     0         \n",
      "_________________________________________________________________\n",
      "dropout_2 (Dropout)          (None, 3, 15, 15, 64)     0         \n",
      "_________________________________________________________________\n",
      "max_pooling3d_7 (MaxPooling3 (None, 1, 7, 7, 64)       0         \n",
      "_________________________________________________________________\n",
      "flatten_1 (Flatten)          (None, 3136)              0         \n",
      "_________________________________________________________________\n",
      "dense_3 (Dense)              (None, 256)               803072    \n",
      "_________________________________________________________________\n",
      "dropout_3 (Dropout)          (None, 256)               0         \n",
      "_________________________________________________________________\n",
      "dense_4 (Dense)              (None, 128)               32896     \n",
      "_________________________________________________________________\n",
      "dropout_4 (Dropout)          (None, 128)               0         \n",
      "_________________________________________________________________\n",
      "dense_5 (Dense)              (None, 5)                 645       \n",
      "=================================================================\n",
      "Total params: 864,101\n",
      "Trainable params: 863,989\n",
      "Non-trainable params: 112\n",
      "_________________________________________________________________\n",
      "None\n"
     ]
    }
   ],
   "source": [
    "optimiser = keras.optimizers.Adam() \n",
    "model_last.compile(optimizer=optimiser, loss='categorical_crossentropy', metrics=['categorical_accuracy'])\n",
    "print (model_last.summary())"
   ]
  },
  {
   "cell_type": "code",
   "execution_count": 40,
   "metadata": {},
   "outputs": [],
   "source": [
    "train_generator = generator(train_path, train_doc, batch_size)\n",
    "val_generator = generator(val_path, val_doc, batch_size)"
   ]
  },
  {
   "cell_type": "code",
   "execution_count": 41,
   "metadata": {},
   "outputs": [
    {
     "name": "stdout",
     "output_type": "stream",
     "text": [
      "Source path =  /Project_data/train ; batch size = 10\n",
      "Epoch 1/20\n",
      "65/67 [============================>.] - ETA: 17s - loss: 2.3581 - categorical_accuracy: 0.2224Batch:  67 Index: 10\n",
      "67/67 [==============================] - ETA: 0s - loss: 2.3432 - categorical_accuracy: 0.2236Source path =  /Project_data/val ; batch size = 10\n",
      "67/67 [==============================] - 625s 9s/step - loss: 2.3361 - categorical_accuracy: 0.2242 - val_loss: 1.5560 - val_categorical_accuracy: 0.4100\n",
      "\n",
      "Epoch 00001: saving model to model_init_2021-04-0500_27_47.853265\\model-00001-1.85885-0.26395-1.55602-0.41000.h5\n",
      "Epoch 2/20\n",
      "67/67 [==============================] - 256s 4s/step - loss: 1.5779 - categorical_accuracy: 0.2979 - val_loss: 1.6063 - val_categorical_accuracy: 0.2100\n",
      "\n",
      "Epoch 00002: saving model to model_init_2021-04-0500_27_47.853265\\model-00002-1.58723-0.27363-1.60630-0.21000.h5\n",
      "Epoch 3/20\n",
      "67/67 [==============================] - 260s 4s/step - loss: 1.6518 - categorical_accuracy: 0.2005 - val_loss: 1.5955 - val_categorical_accuracy: 0.2300\n",
      "\n",
      "Epoch 00003: saving model to model_init_2021-04-0500_27_47.853265\\model-00003-1.62376-0.21393-1.59554-0.23000.h5\n",
      "\n",
      "Epoch 00003: ReduceLROnPlateau reducing learning rate to 0.0005000000237487257.\n",
      "Epoch 4/20\n",
      "67/67 [==============================] - 254s 4s/step - loss: 1.5923 - categorical_accuracy: 0.2369 - val_loss: 1.5897 - val_categorical_accuracy: 0.4000\n",
      "\n",
      "Epoch 00004: saving model to model_init_2021-04-0500_27_47.853265\\model-00004-1.60843-0.23383-1.58973-0.40000.h5\n",
      "Epoch 5/20\n",
      "67/67 [==============================] - 247s 4s/step - loss: 1.6149 - categorical_accuracy: 0.2925 - val_loss: 1.5790 - val_categorical_accuracy: 0.2300\n",
      "\n",
      "Epoch 00005: saving model to model_init_2021-04-0500_27_47.853265\\model-00005-1.58896-0.29353-1.57901-0.23000.h5\n",
      "\n",
      "Epoch 00005: ReduceLROnPlateau reducing learning rate to 0.0002500000118743628.\n",
      "Epoch 6/20\n",
      "67/67 [==============================] - 251s 4s/step - loss: 1.5627 - categorical_accuracy: 0.2924 - val_loss: 1.4795 - val_categorical_accuracy: 0.4500\n",
      "\n",
      "Epoch 00006: saving model to model_init_2021-04-0500_27_47.853265\\model-00006-1.52569-0.33831-1.47949-0.45000.h5\n",
      "Epoch 7/20\n",
      "67/67 [==============================] - 248s 4s/step - loss: 1.4511 - categorical_accuracy: 0.3983 - val_loss: 1.3905 - val_categorical_accuracy: 0.4900\n",
      "\n",
      "Epoch 00007: saving model to model_init_2021-04-0500_27_47.853265\\model-00007-1.44833-0.37811-1.39053-0.49000.h5\n",
      "Epoch 8/20\n",
      "67/67 [==============================] - 255s 4s/step - loss: 1.3910 - categorical_accuracy: 0.4404 - val_loss: 1.3064 - val_categorical_accuracy: 0.4800\n",
      "\n",
      "Epoch 00008: saving model to model_init_2021-04-0500_27_47.853265\\model-00008-1.36442-0.45771-1.30642-0.48000.h5\n",
      "Epoch 9/20\n",
      "67/67 [==============================] - 257s 4s/step - loss: 1.3589 - categorical_accuracy: 0.4452 - val_loss: 1.3013 - val_categorical_accuracy: 0.5100\n",
      "\n",
      "Epoch 00009: saving model to model_init_2021-04-0500_27_47.853265\\model-00009-1.39632-0.41294-1.30131-0.51000.h5\n",
      "Epoch 10/20\n",
      "67/67 [==============================] - 250s 4s/step - loss: 1.2592 - categorical_accuracy: 0.4851 - val_loss: 1.3116 - val_categorical_accuracy: 0.4700\n",
      "\n",
      "Epoch 00010: saving model to model_init_2021-04-0500_27_47.853265\\model-00010-1.27681-0.48756-1.31162-0.47000.h5\n",
      "Epoch 11/20\n",
      "67/67 [==============================] - 250s 4s/step - loss: 1.2905 - categorical_accuracy: 0.4750 - val_loss: 1.2187 - val_categorical_accuracy: 0.4700\n",
      "\n",
      "Epoch 00011: saving model to model_init_2021-04-0500_27_47.853265\\model-00011-1.30059-0.47264-1.21874-0.47000.h5\n",
      "Epoch 12/20\n",
      "67/67 [==============================] - 249s 4s/step - loss: 1.2320 - categorical_accuracy: 0.4811 - val_loss: 1.0562 - val_categorical_accuracy: 0.6300\n",
      "\n",
      "Epoch 00012: saving model to model_init_2021-04-0500_27_47.853265\\model-00012-1.17996-0.51741-1.05616-0.63000.h5\n",
      "Epoch 13/20\n",
      "67/67 [==============================] - 247s 4s/step - loss: 1.1829 - categorical_accuracy: 0.5441 - val_loss: 1.1034 - val_categorical_accuracy: 0.5700\n",
      "\n",
      "Epoch 00013: saving model to model_init_2021-04-0500_27_47.853265\\model-00013-1.25824-0.48756-1.10342-0.57000.h5\n",
      "Epoch 14/20\n",
      "67/67 [==============================] - 251s 4s/step - loss: 1.1388 - categorical_accuracy: 0.5309 - val_loss: 1.0701 - val_categorical_accuracy: 0.6300\n",
      "\n",
      "Epoch 00014: saving model to model_init_2021-04-0500_27_47.853265\\model-00014-1.19025-0.50249-1.07010-0.63000.h5\n",
      "\n",
      "Epoch 00014: ReduceLROnPlateau reducing learning rate to 0.0001250000059371814.\n",
      "Epoch 15/20\n",
      "67/67 [==============================] - 260s 4s/step - loss: 1.1247 - categorical_accuracy: 0.5720 - val_loss: 1.0558 - val_categorical_accuracy: 0.5600\n",
      "\n",
      "Epoch 00015: saving model to model_init_2021-04-0500_27_47.853265\\model-00015-1.05748-0.59701-1.05579-0.56000.h5\n",
      "Epoch 16/20\n",
      "67/67 [==============================] - 255s 4s/step - loss: 1.0188 - categorical_accuracy: 0.6279 - val_loss: 1.0273 - val_categorical_accuracy: 0.5900\n",
      "\n",
      "Epoch 00016: saving model to model_init_2021-04-0500_27_47.853265\\model-00016-1.00708-0.59701-1.02725-0.59000.h5\n",
      "Epoch 17/20\n",
      "67/67 [==============================] - 251s 4s/step - loss: 1.2333 - categorical_accuracy: 0.4832 - val_loss: 0.9433 - val_categorical_accuracy: 0.6200\n",
      "\n",
      "Epoch 00017: saving model to model_init_2021-04-0500_27_47.853265\\model-00017-1.05887-0.55721-0.94330-0.62000.h5\n",
      "Epoch 18/20\n",
      "67/67 [==============================] - 253s 4s/step - loss: 1.0232 - categorical_accuracy: 0.6040 - val_loss: 0.9941 - val_categorical_accuracy: 0.5900\n",
      "\n",
      "Epoch 00018: saving model to model_init_2021-04-0500_27_47.853265\\model-00018-0.96543-0.61692-0.99409-0.59000.h5\n",
      "Epoch 19/20\n",
      "67/67 [==============================] - 248s 4s/step - loss: 0.9407 - categorical_accuracy: 0.5985 - val_loss: 0.8997 - val_categorical_accuracy: 0.6500\n",
      "\n",
      "Epoch 00019: saving model to model_init_2021-04-0500_27_47.853265\\model-00019-0.94221-0.63184-0.89973-0.65000.h5\n",
      "Epoch 20/20\n",
      "67/67 [==============================] - 249s 4s/step - loss: 0.8848 - categorical_accuracy: 0.6425 - val_loss: 0.8938 - val_categorical_accuracy: 0.6400\n",
      "\n",
      "Epoch 00020: saving model to model_init_2021-04-0500_27_47.853265\\model-00020-0.81223-0.68657-0.89380-0.64000.h5\n"
     ]
    },
    {
     "data": {
      "text/plain": [
       "<tensorflow.python.keras.callbacks.History at 0x261a1d25880>"
      ]
     },
     "execution_count": 41,
     "metadata": {},
     "output_type": "execute_result"
    }
   ],
   "source": [
    "batch_size = 10\n",
    "num_epochs = 20\n",
    "model_last.fit_generator(train_generator, steps_per_epoch=steps_per_epoch, epochs=num_epochs, verbose=1, \n",
    "                    callbacks=callbacks_list, validation_data=val_generator, \n",
    "                    validation_steps=validation_steps, class_weight=None, workers=1, initial_epoch=0)"
   ]
  },
  {
   "cell_type": "code",
   "execution_count": null,
   "metadata": {},
   "outputs": [],
   "source": []
  }
 ],
 "metadata": {
  "kernelspec": {
   "display_name": "Python 3",
   "language": "python",
   "name": "python3"
  },
  "language_info": {
   "codemirror_mode": {
    "name": "ipython",
    "version": 3
   },
   "file_extension": ".py",
   "mimetype": "text/x-python",
   "name": "python",
   "nbconvert_exporter": "python",
   "pygments_lexer": "ipython3",
   "version": "3.8.3"
  }
 },
 "nbformat": 4,
 "nbformat_minor": 2
}
